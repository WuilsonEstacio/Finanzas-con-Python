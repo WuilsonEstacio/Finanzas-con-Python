{
  "nbformat": 4,
  "nbformat_minor": 0,
  "metadata": {
    "colab": {
      "name": "Credit Card Fraud Detection.ipynb",
      "private_outputs": true,
      "provenance": [],
      "collapsed_sections": [],
      "authorship_tag": "ABX9TyMIjgTjiQHxetvoeLHNeRat",
      "include_colab_link": true
    },
    "kernelspec": {
      "name": "python3",
      "display_name": "Python 3"
    },
    "language_info": {
      "name": "python"
    }
  },
  "cells": [
    {
      "cell_type": "markdown",
      "metadata": {
        "id": "view-in-github",
        "colab_type": "text"
      },
      "source": [
        "<a href=\"https://colab.research.google.com/github/WuilsonEstacio/Finanzas-con-Python/blob/main/Credit_Card_Fraud_Detection.ipynb\" target=\"_parent\"><img src=\"https://colab.research.google.com/assets/colab-badge.svg\" alt=\"Open In Colab\"/></a>"
      ]
    },
    {
      "cell_type": "markdown",
      "metadata": {
        "id": "l5jIFKF5J8OU"
      },
      "source": [
        "reproducion de modelo de aprendizaje  tomado de:\n",
        "<a href=https://www.kaggle.com/mlg-ulb/creditcardfraud> Creditcardfraud </a>\n",
        " y del Video: \n",
        "https://www.youtube.com/watch?v=NCgjcHLFNDg \n",
        "\n",
        "Es importante que las compañías de tarjetas de crédito puedan reconocer las transacciones fraudulentas de tarjetas de crédito para que no se cobre a los clientes por artículos que no compraron.\n",
        "\n",
        "Time: Número de segundos transcurridos entre esta transacción y la primera transacción en el conjunto de datos\n",
        "\n",
        "v1-v8: puede ser el resultado de una reducción de la dimensionalidad de PCA para proteger las identidades de los usuarios y las funciones sensibles (v1-v28)"
      ]
    },
    {
      "cell_type": "code",
      "metadata": {
        "id": "nepCMUgWEn4R"
      },
      "source": [
        "import pandas as pd\n",
        "import numpy as np\n",
        "import matplotlib.pyplot as plt\n",
        "import matplotlib\n",
        "import seaborn as sns\n",
        "from joblib import parallel, delayed\n",
        "from sklearn.model_selection import  train_test_split\n",
        "from sklearn.linear_model import  LogisticRegression\n",
        "from sklearn.metrics import accuracy_score\n",
        "from sklearn.impute import SimpleImputer"
      ],
      "execution_count": null,
      "outputs": []
    },
    {
      "cell_type": "code",
      "metadata": {
        "id": "mDKvYICGI4RJ"
      },
      "source": [
        "# cargando datos de dataset\n",
        "df = pd.read_csv('/content/creditcard.csv')\n",
        "# df=df[['price',\t'crime_rate',\t'resid_area',\t'air_qual',\t'room_num',\t'age',\t'dist1',\t'dist2',\t'dist3',\t'dist4',\t'teachers',\t'poor_prop',\t'airport',\t'n_hos_beds',\t'n_hot_rooms',\t'waterbody',\t'rainfall']].dropna() # dropna se utliza para eliminar datos perdidos o faltantes\n",
        "df.head(5)"
      ],
      "execution_count": null,
      "outputs": []
    },
    {
      "cell_type": "code",
      "metadata": {
        "id": "5Gz8iXXgJXAe"
      },
      "source": [
        "df.tail() # Devuelve las últimas n filas.por defecto n= 5"
      ],
      "execution_count": null,
      "outputs": []
    },
    {
      "cell_type": "code",
      "metadata": {
        "id": "ZDPRB3XuJXDx"
      },
      "source": [
        "df.info()"
      ],
      "execution_count": null,
      "outputs": []
    },
    {
      "cell_type": "code",
      "metadata": {
        "id": "_DulRoyAMqLg"
      },
      "source": [
        "df.shape # ver la cantidad de columnas i filas"
      ],
      "execution_count": null,
      "outputs": []
    },
    {
      "cell_type": "code",
      "metadata": {
        "id": "cMvYm1BOM0le"
      },
      "source": [
        "# verificamos el numero de valores perdidos\n",
        "df.isnull().sum()"
      ],
      "execution_count": null,
      "outputs": []
    },
    {
      "cell_type": "markdown",
      "metadata": {
        "id": "abo2xIuESBKr"
      },
      "source": [
        "<a href=https://ichi.pro/es/una-guia-rapida-sobre-tecnicas-de-imputacion-de-datos-faltantes-en-python-2020-92431787695134> tecnicas de impitacion </a>"
      ]
    },
    {
      "cell_type": "code",
      "metadata": {
        "id": "9Ev4PGJZNh56"
      },
      "source": [
        "from sklearn.impute import SimpleImputer\n",
        "columns = ['V22', 'V23', 'V24', 'V25', 'V26', 'V27', 'V28']\n",
        "imp = SimpleImputer(missing_values=np.NaN,strategy='most_frequent')\n",
        "x = df[columns]\n",
        "x = imp.fit_transform(x)\n",
        "print(x)"
      ],
      "execution_count": null,
      "outputs": []
    },
    {
      "cell_type": "code",
      "metadata": {
        "id": "2lRsHqzbSMk6"
      },
      "source": [
        "# verificamos el numero de valores perdidos\n",
        "df.isnull().sum()"
      ],
      "execution_count": null,
      "outputs": []
    },
    {
      "cell_type": "code",
      "metadata": {
        "id": "sbfBmPT8SQCG"
      },
      "source": [
        "# distribucion de las transacciones legitimas con  0  & transaciones frudulentas con 1\n",
        "df['Class'].value_counts()# cuenta los valoes  de cada clase "
      ],
      "execution_count": null,
      "outputs": []
    },
    {
      "cell_type": "code",
      "metadata": {
        "id": "BZ2gUBIPSieH"
      },
      "source": [
        "#  separacion de los datos para analisis\n",
        "legit = df[df.Class==0]\n",
        "fraud = df[df.Class==1]\n",
        "print(legit.shape)\n",
        "print(fraud.shape)"
      ],
      "execution_count": null,
      "outputs": []
    },
    {
      "cell_type": "code",
      "metadata": {
        "id": "R3P8q4KiTTUm"
      },
      "source": [
        "# mediciones estadisticas de dataset \n",
        "# descripcion del monto de las transaciones legitimas\n",
        "legit.Amount.describe()"
      ],
      "execution_count": null,
      "outputs": []
    },
    {
      "cell_type": "code",
      "metadata": {
        "id": "op6K7bPIVCxu"
      },
      "source": [
        "# describcion del monto del fraude\n",
        "fraud.Amount.describe()"
      ],
      "execution_count": null,
      "outputs": []
    },
    {
      "cell_type": "code",
      "metadata": {
        "id": "bhYOpobQVDGL"
      },
      "source": [
        "# compare los valores para ambas transaciones\n",
        "df.groupby('Class').mean()"
      ],
      "execution_count": null,
      "outputs": []
    },
    {
      "cell_type": "markdown",
      "metadata": {
        "id": "XceIQ1nDVzLT"
      },
      "source": [
        "Construccion de un ejemplo de dataset que contenga una similar distribucion normal trasacional y draudulenta\n",
        "\n",
        "Numero de transaciones fraudulentas"
      ]
    },
    {
      "cell_type": "code",
      "metadata": {
        "id": "hGkXjVs9WImX"
      },
      "source": [
        "legit_sample = legit.sample(n=492)\n",
        "legit_sample.head()"
      ],
      "execution_count": null,
      "outputs": []
    },
    {
      "cell_type": "code",
      "metadata": {
        "id": "A4Y4yqvvWIrb"
      },
      "source": [
        "new_dataset = pd.concat([legit_sample, fraud], axis=0)\n",
        "new_dataset"
      ],
      "execution_count": null,
      "outputs": []
    },
    {
      "cell_type": "code",
      "metadata": {
        "id": "o3B29qysVDML"
      },
      "source": [
        "new_dataset['Class'].value_counts()"
      ],
      "execution_count": null,
      "outputs": []
    },
    {
      "cell_type": "code",
      "metadata": {
        "id": "VqHja-YjXlLG"
      },
      "source": [
        "new_dataset.groupby('Class').mean() # se nota uan pequeña  variacion en los ultimos digitos"
      ],
      "execution_count": null,
      "outputs": []
    },
    {
      "cell_type": "markdown",
      "metadata": {
        "id": "Epi8m007X99p"
      },
      "source": [
        "# ML\n",
        "Dividiendo los datos en datos  de entrenamiento"
      ]
    },
    {
      "cell_type": "code",
      "metadata": {
        "id": "42_wJc8QYQ5v"
      },
      "source": [
        "X = new_dataset.drop(columns='Class', axis =1)\n",
        "y = new_dataset['Class']\n",
        "print(X)"
      ],
      "execution_count": null,
      "outputs": []
    },
    {
      "cell_type": "code",
      "metadata": {
        "id": "l1wO4okoYk1F"
      },
      "source": [
        "print(y)"
      ],
      "execution_count": null,
      "outputs": []
    },
    {
      "cell_type": "markdown",
      "metadata": {
        "id": "O9OqGwXlYqo4"
      },
      "source": [
        "Dividiendo los datos en datos de prueba"
      ]
    },
    {
      "cell_type": "code",
      "metadata": {
        "id": "8r0yQvJxYk67"
      },
      "source": [
        "X_train, X_test, y_train, y_test = train_test_split(X,y, test_size=0.25, stratify=y, random_state=22) "
      ],
      "execution_count": null,
      "outputs": []
    },
    {
      "cell_type": "code",
      "metadata": {
        "id": "V5MkUYFiYlAy"
      },
      "source": [
        "print(X.shape, X_train.shape, X_test.shape)"
      ],
      "execution_count": null,
      "outputs": []
    },
    {
      "cell_type": "markdown",
      "metadata": {
        "id": "avWiAmpLaWL8"
      },
      "source": [
        "IMportando Lgistic regrecion"
      ]
    },
    {
      "cell_type": "code",
      "metadata": {
        "id": "FiQ__q9OYlGf"
      },
      "source": [
        "model = LogisticRegression()\n",
        "# entrenamiento del modelo \n",
        "model.fit(X_train, y_train)\n",
        "# Accuracy Score on training data\n",
        "X_train_predict = model.predict(X_train)\n",
        "train_accuracy = accuracy_score(X_train_predict, y_train)"
      ],
      "execution_count": null,
      "outputs": []
    },
    {
      "cell_type": "code",
      "metadata": {
        "id": "TihKYwCEaZoM"
      },
      "source": [
        "print('Accuracy on Training data : ', train_accuracy)"
      ],
      "execution_count": null,
      "outputs": []
    },
    {
      "cell_type": "code",
      "metadata": {
        "id": "iIMMox_qdIan"
      },
      "source": [
        "print(X_train_predict.shape)\n",
        "print(X_train_predict)"
      ],
      "execution_count": null,
      "outputs": []
    },
    {
      "cell_type": "code",
      "metadata": {
        "id": "JlTWe-lXb958"
      },
      "source": [
        "# accuracy on test data\n",
        "X_test_predict = model.predict(X_test)\n",
        "test_accuracy = accuracy_score(X_test_predict, y_test)\n",
        "print('Accuracy on Test data : ', test_accuracy)"
      ],
      "execution_count": null,
      "outputs": []
    },
    {
      "cell_type": "code",
      "metadata": {
        "id": "rh8a8of0dVnm"
      },
      "source": [
        "print(X_test_predict)\n",
        "print(X_test_predict.shape)"
      ],
      "execution_count": null,
      "outputs": []
    },
    {
      "cell_type": "code",
      "metadata": {
        "id": "qPTDQc9_d6BR"
      },
      "source": [
        "predicions=pd.DataFrame(X_test_predict,columns=['valor_total_avaluo'])\n",
        "predicions"
      ],
      "execution_count": null,
      "outputs": []
    },
    {
      "cell_type": "code",
      "metadata": {
        "id": "sORraHrQeb3V"
      },
      "source": [
        "predicions.to_csv('Predict_class.csv')"
      ],
      "execution_count": null,
      "outputs": []
    }
  ]
}