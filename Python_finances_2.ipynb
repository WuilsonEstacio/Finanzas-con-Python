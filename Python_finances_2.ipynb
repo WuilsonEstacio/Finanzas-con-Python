{
  "nbformat": 4,
  "nbformat_minor": 0,
  "metadata": {
    "colab": {
      "name": "Python-finances-2.ipynb",
      "provenance": [],
      "authorship_tag": "ABX9TyMBSMSvrysRDV69pIMKdZF5",
      "include_colab_link": true
    },
    "kernelspec": {
      "name": "python3",
      "display_name": "Python 3"
    }
  },
  "cells": [
    {
      "cell_type": "markdown",
      "metadata": {
        "id": "view-in-github",
        "colab_type": "text"
      },
      "source": [
        "<a href=\"https://colab.research.google.com/github/WuilsonEstacio/Finanzas-con-Python/blob/main/Python_finances_2.ipynb\" target=\"_parent\"><img src=\"https://colab.research.google.com/assets/colab-badge.svg\" alt=\"Open In Colab\"/></a>"
      ]
    },
    {
      "cell_type": "markdown",
      "metadata": {
        "id": "3JmeXCd9LMQf"
      },
      "source": [
        "Creacion de codigo para datos del mercado"
      ]
    },
    {
      "cell_type": "code",
      "metadata": {
        "colab": {
          "base_uri": "https://localhost:8080/"
        },
        "id": "e5TtUtquK_0S",
        "outputId": "3c9f31e8-32ae-4cbc-ab9f-7e779a03f7e4"
      },
      "source": [
        "import numpy as np # importando numpy\n",
        "from scipy import stats # importando scipy.stats\n",
        "import pandas as pd # importando pandas\n",
        "import matplotlib.pyplot as plt\n",
        "import matplotlib as mpl\n",
        "import importlib\n",
        "import scipy\n",
        "from scipy.stats import skew, kurtosis, chi2\n",
        "import seaborn as sns # importando seaborn\n",
        "\n",
        "# importanto la api de statsmodels\n",
        "import statsmodels.formula.api as smf\n",
        "import statsmodels.api as sm\n",
        "\n",
        "from scipy import stats # importando scipy.stats\n",
        "import seaborn as sns # importando seaborn"
      ],
      "execution_count": null,
      "outputs": [
        {
          "output_type": "stream",
          "text": [
            "/usr/local/lib/python3.7/dist-packages/statsmodels/tools/_testing.py:19: FutureWarning: pandas.util.testing is deprecated. Use the functions in the public API at pandas.testing instead.\n",
            "  import pandas.util.testing as tm\n"
          ],
          "name": "stderr"
        }
      ]
    },
    {
      "cell_type": "code",
      "metadata": {
        "id": "D8ZKC5D4MQNo"
      },
      "source": [
        "x = None #n retunrs\n",
        "x_str = None # label e.g. rick\n",
        "x_size =None # size of return"
      ],
      "execution_count": null,
      "outputs": []
    },
    {
      "cell_type": "code",
      "metadata": {
        "id": "pcVuWZV5LJZs"
      },
      "source": [
        "x_mean = np.mean(x) # para calcular la  media\n",
        "x_std =np.std(x) # para la desviacion estandar o volatilidad si se habla de mercados\n",
        "x_skew = skew(x) # para calcular la skweness o simetria\n",
        "x_kurt = kurtosis(x) # curtosis en exceso, para calcular la kurtosis y ver que tantas colas largas tiene\n",
        "x_sharpe = x_mean/x_std # esto es el rendimiento en unidades de riesgo\n",
        "print('media               =', x_mean)\n",
        "print('desviacion estandar =', x_std)\n",
        "print('skweness            =', x_skew)\n",
        "print('kurtosis            =', x_kurt) # curtosis en exceso si es cero\n",
        "print('x_sharpe            =', x_sharpe)"
      ],
      "execution_count": null,
      "outputs": []
    },
    {
      "cell_type": "code",
      "metadata": {
        "id": "vK_OfGjoLt8q"
      },
      "source": [
        "x_var_95 = np.percentile(x,95) # valor en riesgo esto nos dice que solamente el 5% de los valores son mayores, el valor arrojado en este caso mayores a 1.64\n",
        "x_cvar_95 = np.mean(x[x <= x_var_95]) # valor en riesgo condicional, esto nos dice, que cuando pierdo que tanto pierdo, esto es el promedio de todos os valores que estan a la isquierda osea que se encuentran en el -5% en este caso\n",
        "x_sharpe = x_mean / x_std * np.sqrt(252) #\n",
        "print('percentil del 95% o valor en riesgo   =', x_var_95) #\n",
        "print('covarianza del 95%, riesgo condicional =', x_cvar_95)\n",
        "print('x_sharpe            =', x_sharpe)"
      ],
      "execution_count": null,
      "outputs": []
    },
    {
      "cell_type": "code",
      "metadata": {
        "id": "N-bmMXM4L-PP"
      },
      "source": [
        "#test de jarque-bera\n",
        "# https://es.wikipedia.org/wiki/Test_de_Jarque-Bera\n",
        "jb = x_size/6 * (x_skew**2 + 1/4*x_kurt**2) # jarque bera\n",
        "print('jarque bera            =', jb) # si se tiene un jarque bera > 6 la distribucion no es normal"
      ],
      "execution_count": null,
      "outputs": []
    },
    {
      "cell_type": "code",
      "metadata": {
        "id": "cwEMe6g1MD6L"
      },
      "source": [
        "# p-value print('jarque bera  =', x_jarque_bera) https://en.wikipedia.org/wiki/P-value  \n",
        "# esto me da la probabilidad de que suponiendo que tenga una distribicion chi2, cua es la probabilidad\n",
        "# de tener puntos que caigan a la izquierda de dicho valor\n",
        "p_value = 1 - chi2.cdf(jb) # se deben fijar df en 2 para la t-student, df= grados de liberdad y para chi2 df=0\n",
        "print('p_value           =', p_value)"
      ],
      "execution_count": null,
      "outputs": []
    },
    {
      "cell_type": "code",
      "metadata": {
        "id": "evHcN7bxMEGS"
      },
      "source": [
        "# esto nos dice que si nuestro p_value es mayor que 0.05 o 5% aceptamos la hipotesis porque estariamos a la izquierda de nuestro humbral\n",
        "# y nuestra distribucion tiende a ser normal ver:  https://en.wikipedia.org/wiki/Jarque%E2%80%93Bera_test\n",
        "is_normal = (p_value > 0.05) # con esto necesitamos que equivalently jb < 6\n",
        "print('is_normal           =', is_normal) \n"
      ],
      "execution_count": null,
      "outputs": []
    },
    {
      "cell_type": "code",
      "metadata": {
        "id": "EY4yd0ZuMOuN"
      },
      "source": [
        "# plot histogram\n",
        "plt.figure()\n",
        "plt.hist(x,bins=100) # bins genera mas cuadritos\n",
        "plt.title('Histogram ' +  x_str)\n",
        "plt.show()"
      ],
      "execution_count": null,
      "outputs": []
    }
  ]
}