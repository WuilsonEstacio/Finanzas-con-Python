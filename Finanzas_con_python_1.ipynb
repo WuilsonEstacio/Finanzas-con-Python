{
  "nbformat": 4,
  "nbformat_minor": 0,
  "metadata": {
    "colab": {
      "name": "Finanzas-con-python-1.ipynb",
      "provenance": [],
      "collapsed_sections": [],
      "authorship_tag": "ABX9TyPqgr0nQ1Bym7DwjjlW0VIq",
      "include_colab_link": true
    },
    "kernelspec": {
      "name": "python3",
      "display_name": "Python 3"
    }
  },
  "cells": [
    {
      "cell_type": "markdown",
      "metadata": {
        "id": "view-in-github",
        "colab_type": "text"
      },
      "source": [
        "<a href=\"https://colab.research.google.com/github/WuilsonEstacio/Finanzas-con-Python/blob/main/Finanzas_con_python_1.ipynb\" target=\"_parent\"><img src=\"https://colab.research.google.com/assets/colab-badge.svg\" alt=\"Open In Colab\"/></a>"
      ]
    },
    {
      "cell_type": "markdown",
      "metadata": {
        "id": "NA-9H7aGBWwg"
      },
      "source": [
        "# For finances"
      ]
    },
    {
      "cell_type": "code",
      "metadata": {
        "id": "KCW-vw7oiura"
      },
      "source": [
        "import numpy as np # importando numpy\n",
        "from scipy import stats # importando scipy.stats\n",
        "import pandas as pd # importando pandas\n",
        "import matplotlib.pyplot as plt\n",
        "import matplotlib as mpl\n",
        "import importlib\n",
        "import scipy\n",
        "from scipy.stats import skew, kurtosis, chi2\n",
        "import seaborn as sns # importando seaborn\n",
        "\n",
        "# importanto la api de statsmodels\n",
        "import statsmodels.formula.api as smf\n",
        "import statsmodels.api as sm\n",
        "\n",
        "from scipy import stats # importando scipy.stats\n",
        "import seaborn as sns # importando seaborn"
      ],
      "execution_count": null,
      "outputs": []
    },
    {
      "cell_type": "code",
      "metadata": {
        "id": "PFdFSjaR8OqV"
      },
      "source": [
        "# input params\n",
        "x_size = 10**6    # tamaño de la distrubucion\n",
        "dregees_freedom = 2 # for student distribution. 750 is borderline\n",
        "type_random_variable = 'normal' # o 'exponential' ,  'student' , ' normal ', ' chi-cuadrado '\n",
        "\n",
        "# playing with borel-cantelli: P[all tests are normal = True] = 0 para quitar comentarios es ctrl+1\n",
        "#para poner comentarios es shit+tab\n",
        "# counter = 0\n",
        "# x_is_normal = Truel\n",
        "# while x_is_normal:\n",
        "#     counter += 1 "
      ],
      "execution_count": null,
      "outputs": []
    },
    {
      "cell_type": "code",
      "metadata": {
        "colab": {
          "base_uri": "https://localhost:8080/"
        },
        "id": "f8mpNQMP8O1C",
        "outputId": "ba50ff94-d5bb-4f2e-b2ac-1d2dba68dac2"
      },
      "source": [
        "#computer random vector\n",
        "df = dregees_freedom\n",
        "if type_random_variable == 'normal':\n",
        "  x = np.random.standard_normal(size=x_size)\n",
        "  x_str = 'Standard Normal RV'\n",
        "elif type_random_variable == 'exponential':\n",
        "  x = np.random.standard_exponential(size=x_size)\n",
        "  x_str = 'Exponential RV'\n",
        "elif type_random_variable == 'student':\n",
        "  x = np.random.standard_t(size=x_size, df=dregees_freedom, )\n",
        "  x_str = 'Student RV (df = '+ str(dregees_freedom) + ')'\n",
        "elif type_random_variable == 'chi-cuadrado':\n",
        "  chi2 = stats.chi2(dregees_freedom)\n",
        "  x = np.random.chisquare(size=x_size, df=dregees_freedom, )\n",
        "  x_str = 'chi-cuadrado (df = '+ str(dregees_freedom) + ')'\n",
        "print(x)\n",
        "print(df)\n"
      ],
      "execution_count": null,
      "outputs": [
        {
          "output_type": "stream",
          "text": [
            "[-0.40546659  1.67107159 -0.09900013 ... -0.35691169 -0.23801116\n",
            "  1.00425527]\n",
            "2\n"
          ],
          "name": "stdout"
        }
      ]
    },
    {
      "cell_type": "code",
      "metadata": {
        "id": "RnbrRUN80PuW",
        "colab": {
          "base_uri": "https://localhost:8080/",
          "height": 281
        },
        "outputId": "a9db3dc8-f2e7-484d-9ab1-d642b0ad51fa"
      },
      "source": [
        "# plot histogram\n",
        "plt.figure()\n",
        "plt.hist(x,bins=100) # bins genera mas cuadritos\n",
        "plt.title('Histogram ' +  x_str)\n",
        "plt.show()"
      ],
      "execution_count": null,
      "outputs": [
        {
          "output_type": "display_data",
          "data": {
            "image/png": "[encoded data removed]",
            "text/plain": [
              "<Figure size 432x288 with 1 Axes>"
            ]
          },
          "metadata": {
            "tags": [],
            "needs_background": "light"
          }
        }
      ]
    },
    {
      "cell_type": "code",
      "metadata": {
        "id": "193vH4z5GC88",
        "colab": {
          "base_uri": "https://localhost:8080/"
        },
        "outputId": "20573657-25db-4e09-8f46-960c90dba1a6"
      },
      "source": [
        "round_digits = 4\n",
        "x_mean = np.mean(x) # para calcular la  media\n",
        "x_std =np.std(x) # para la desviacion estandar o volatilidad si se habla de mercados\n",
        "x_skew = skew(x) # para calcular la skweness o simetria\n",
        "x_kurt = kurtosis(x) # curtosis en exceso, para calcular la kurtosis y ver que tantas colas largas tiene\n",
        "x_sharpe = x_mean/x_std # esto es el rendimiento en unidades de riesgo\n",
        "print('media               =', x_mean)\n",
        "print('desviacion estandar =', x_std)\n",
        "print('skweness            =', x_skew)\n",
        "print('kurtosis            =', x_kurt) # curtosis en exceso si es cero\n",
        "print('x_sharpe            =', x_sharpe)"
      ],
      "execution_count": null,
      "outputs": [
        {
          "output_type": "stream",
          "text": [
            "media               = 0.0005243547149688064\n",
            "desviacion estandar = 0.9995579065269103\n",
            "skweness            = -0.0005680220333444958\n",
            "kurtosis            = 0.009066489205819206\n",
            "x_sharpe            = 0.0005245866312945718\n"
          ],
          "name": "stdout"
        }
      ]
    },
    {
      "cell_type": "code",
      "metadata": {
        "id": "tGyeN6s38PAK",
        "colab": {
          "base_uri": "https://localhost:8080/"
        },
        "outputId": "62f89534-1019-449d-822f-4b9c8d3cb6cc"
      },
      "source": [
        "x_var_95 = np.percentile(x,95) # valor en riesgo esto nos dice que solamente el 5% de los valores son mayores, el valor arrojado en este caso mayores a 1.64\n",
        "x_cvar_95 = np.mean(x[x <= x_var_95]) # valor en riesgo condicional, esto nos dice, que cuando pierdo que tanto pierdo, esto es el promedio de todos os valores que estan a la isquierda osea que se encuentran en el -5% en este caso\n",
        "x_sharpe = x_mean / x_std * np.sqrt(252) #\n",
        "print('percentil del 95% o valor en riesgo   =', x_var_95) #\n",
        "print('covarianza del 95%, riesgo condicional =', x_cvar_95)\n",
        "print('x_sharpe            =', x_sharpe)"
      ],
      "execution_count": null,
      "outputs": [
        {
          "output_type": "stream",
          "text": [
            "percentil del 95% o valor en riesgo   = 1.6434451272541355\n",
            "covarianza del 95%, riesgo condicional = -0.10806322193944358\n",
            "x_sharpe            = 0.008327554605087422\n"
          ],
          "name": "stdout"
        }
      ]
    },
    {
      "cell_type": "code",
      "metadata": {
        "id": "N5zuO1xd8LCf",
        "colab": {
          "base_uri": "https://localhost:8080/"
        },
        "outputId": "107eaec9-80f9-4541-aba2-e9fecac9cb46"
      },
      "source": [
        "x_corrcoef = np.corrcoef(x) # coeficiente de correlacion\n",
        "x_var = np.var(x) # covarianza\n",
        "print('Coeficiente de correlacion  =', x_corrcoef)\n",
        "print('varianza                    =', x_var)"
      ],
      "execution_count": null,
      "outputs": [
        {
          "output_type": "stream",
          "text": [
            "Coeficiente de correlacion  = 1.0\n",
            "varianza                    = 0.9991160085004596\n"
          ],
          "name": "stdout"
        }
      ]
    },
    {
      "cell_type": "code",
      "metadata": {
        "colab": {
          "base_uri": "https://localhost:8080/"
        },
        "id": "ddfvF4z-FytE",
        "outputId": "9c6c3c9c-8700-44c3-dd4a-cb582d8f0858"
      },
      "source": [
        "#test de jarque-bera\n",
        "# https://es.wikipedia.org/wiki/Test_de_Jarque-Bera\n",
        "jb = x_size/6 * (x_skew**2 + 1/4*x_kurt**2) # jarque bera\n",
        "print('jarque bera            =', jb) # si se tiene un jarque bera > 6 la distribucion no es normal\n"
      ],
      "execution_count": null,
      "outputs": [
        {
          "output_type": "stream",
          "text": [
            "jarque bera            = 3.4788259433623097\n"
          ],
          "name": "stdout"
        }
      ]
    },
    {
      "cell_type": "code",
      "metadata": {
        "colab": {
          "base_uri": "https://localhost:8080/"
        },
        "id": "oxXF28z2FzCC",
        "outputId": "d2540850-a850-4e2b-f81e-4f63960028d8"
      },
      "source": [
        "# p-value print('jarque bera  =', x_jarque_bera) https://en.wikipedia.org/wiki/P-value  \n",
        "# esto me da la probabilidad de que suponiendo que tenga una distribicion chi2, cua es la probabilidad\n",
        "# de tener puntos que caigan a la izquierda de dicho valor\n",
        "p_value = 1 - chi2.cdf(jb, df) # se deben fijar df en 2 para la t-student, df= grados de liberdad \n",
        "print('p_value           =', p_value)"
      ],
      "execution_count": null,
      "outputs": [
        {
          "output_type": "stream",
          "text": [
            "p_value           = 0.17562346631097492\n"
          ],
          "name": "stdout"
        }
      ]
    },
    {
      "cell_type": "code",
      "metadata": {
        "colab": {
          "base_uri": "https://localhost:8080/"
        },
        "id": "fY63WenKFzRZ",
        "outputId": "cbf67f1f-9e9e-472c-a370-fc2143391c80"
      },
      "source": [
        "# esto nos dice que si nuestro p_value es mayor que 0.05 o 5% aceptamos la hipotesis porque estariamos a la izquierda de nuestro humbral\n",
        "# y nuestra distribucion tiende a ser normal ver:  https://en.wikipedia.org/wiki/Jarque%E2%80%93Bera_test\n",
        "is_normal = (p_value > 0.05) # con esto necesitamos que equivalently jb < 6\n",
        "print('is_normal           =', is_normal) \n",
        "\n",
        "#print('counter' + str(counter))\n",
        "#print('------')"
      ],
      "execution_count": null,
      "outputs": [
        {
          "output_type": "stream",
          "text": [
            "is_normal           = True\n"
          ],
          "name": "stdout"
        }
      ]
    }
  ]
}